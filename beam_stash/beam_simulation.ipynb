{
 "cells": [
  {
   "cell_type": "code",
   "execution_count": 1,
   "metadata": {},
   "outputs": [],
   "source": [
    "import numpy as np"
   ]
  },
  {
   "cell_type": "code",
   "execution_count": 43,
   "metadata": {},
   "outputs": [],
   "source": [
    "class BeamNode:\n",
    "    def __init__(self, log_softmax, decoder_input, parent):\n",
    "        self.log_softmax = log_softmax\n",
    "        self.decoder_input = decoder_input\n",
    "        self.parent = parent\n",
    "\n",
    "        if self.parent:\n",
    "            self.depth = self.parent.depth + 1\n",
    "            self.sum_log = self.parent.sum_log + self.log_softmax\n",
    "        else:\n",
    "            self.depth = 0\n",
    "            self.sum_log = 0\n",
    "\n",
    "    def sum_log_norm(self, weight_type):\n",
    "        if weight_type == 1: \n",
    "            return self.sum_log / (self.depth + 1)\n",
    "\n",
    "    def __lt__(self, other):\n",
    "        return self.sum_log_norm(1) < other.sum_log_norm(1)\n",
    "\n",
    "    def __repr__(self):\n",
    "        return f\"{np.float64(self.sum_log_norm(1))}\"\n",
    "\n",
    "    def __str__(self):\n",
    "        return f\"{np.float64(self.sum_log_norm(1))}\""
   ]
  },
  {
   "cell_type": "code",
   "execution_count": 125,
   "metadata": {},
   "outputs": [
    {
     "name": "stdout",
     "output_type": "stream",
     "text": [
      "2 -0.020436976314548178\n",
      "9 -0.03029636123418796\n",
      "11 -0.031033243433736934\n",
      "8 -0.031242550523608817\n",
      "8 -0.031318784046758426\n",
      "7 -0.03419773009766609\n",
      "6 -0.034455584480831525\n",
      "9 -0.0353130595858535\n",
      "9 -0.035694202380301444\n",
      "11 -0.03688946142514111\n",
      "15 -0.03738125534508313\n",
      "11 -0.03771397083068151\n",
      "15 -0.038635344368138605\n",
      "13 -0.038696759868779296\n",
      "4 -0.03899017734276287\n",
      "12 -0.039570177291192485\n",
      "6 -0.040343750650743214\n",
      "14 -0.04043308807918801\n",
      "17 -0.04103490116645889\n",
      "20 -0.041984247502126475\n",
      "4 -0.04262517144867346\n",
      "20 -0.04281552664218274\n",
      "20 -0.04317601714609155\n",
      "20 -0.04396947144059203\n",
      "15 -0.04397337368405429\n",
      "20 -0.04413116764735936\n",
      "18 -0.0442513990842584\n",
      "12 -0.044767351183135386\n",
      "18 -0.04501699668230563\n",
      "19 -0.04567801225467282\n",
      "17 -0.04570358957263019\n",
      "16 -0.04853671779797792\n",
      "20 -0.050838281323328204\n",
      "9 -0.051054939072931446\n",
      "4 -0.053966857659049\n",
      "16 -0.054063696446195186\n",
      "3 -0.05482714346658238\n",
      "3 -0.06162226166782375\n",
      "4 -0.06280587946711816\n",
      "5 -0.06990013152824963\n"
     ]
    }
   ],
   "source": [
    "n = 5; max_length = 20\n",
    "queue = []\n",
    "answers = []\n",
    "\n",
    "root = BeamNode(None, np.random.randint(6,10), None)\n",
    "queue.append(root)\n",
    "\n",
    "current_depth = root.depth\n",
    "cr_node = root\n",
    "while queue != []:\n",
    "    if cr_node.depth != current_depth:\n",
    "        current_depth += 1\n",
    "        queue = sorted(queue, reverse=True)[:n]\n",
    "    \n",
    "    cr_node = queue.pop(0)\n",
    "    if cr_node.depth < max_length and cr_node.decoder_input > 5:\n",
    "        decoder_output = [-np.random.rand() for _ in range(max_length)]\n",
    "\n",
    "        # select n best\n",
    "        topi = np.argpartition(decoder_output, -n)[-n:]\n",
    "        topv = [decoder_output[i] for i in topi]\n",
    "        # print(decoder_output)\n",
    "        # print(topv)\n",
    "        for i in range(n):\n",
    "            queue.append(BeamNode(topv[i], topi[i], cr_node))\n",
    "    else:\n",
    "        answers.append(cr_node)\n",
    "\n",
    "\n",
    "answers = sorted(answers, reverse=True)\n",
    "for ans in answers:\n",
    "    print(ans.depth, ans)\n",
    "    # while ans.parent != None:\n",
    "    #     # print(ans.depth, ans)\n",
    "    #     ans = ans.parent"
   ]
  }
 ],
 "metadata": {
  "interpreter": {
   "hash": "12614559b287d062107016ba2e5ba226f18e6e48d33e622540160d4dc678e80d"
  },
  "kernelspec": {
   "display_name": "Python 3.9.5 64-bit",
   "language": "python",
   "name": "python3"
  },
  "language_info": {
   "codemirror_mode": {
    "name": "ipython",
    "version": 3
   },
   "file_extension": ".py",
   "mimetype": "text/x-python",
   "name": "python",
   "nbconvert_exporter": "python",
   "pygments_lexer": "ipython3",
   "version": "3.9.5"
  },
  "orig_nbformat": 4
 },
 "nbformat": 4,
 "nbformat_minor": 2
}
